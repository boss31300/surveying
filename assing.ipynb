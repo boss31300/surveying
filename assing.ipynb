import numpy as np
import pandas as pd
import matplotlib.pyplot as plt
df=pd.read_csv("Test_01.csv")
x=df["number: 0"]
y=df["number: 1"]
z=df["number: 2"]
from mpl_toolkits.mplot3d import Axes3D

print(a)
print(b)
print(c)

fig = plt.figure()
ax = fig.add_subplot(111, projection='3d')


ax.scatter(a, b, c, d='r', marker='o')

ax.set_xlabel('X Label')
ax.set_ylabel('Y Label')
ax.set_zlabel('Z Label')

plt.show()
